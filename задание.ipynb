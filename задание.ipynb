{
 "cells": [
  {
   "cell_type": "code",
   "execution_count": 1,
   "id": "d2fc4f1a-9dd2-4f09-a70d-6e40343c765c",
   "metadata": {},
   "outputs": [],
   "source": [
    "import pandas as pd\n",
    "\n",
    "# Шаг 1: Загрузка данных\n",
    "#input_file = \"C:\\Users\\USER\\Downloads\\GrafPkg\\dataFP_SNPs.txt\"\n",
    "input_file = r\"C:\\Users\\USER\\Downloads\\GrafPkg\\data\\FP_SNPs.txt\"\n",
    "output_file = \"FP_SNPs_10k_GB38_twoAllelsFormat.tsv\"\n",
    "df = pd.read_csv(input_file, sep=\"\\t\")\n",
    "\n",
    "# Шаг 2: Преобразование формата\n",
    "# Удаление координат по GRCh37\n",
    "df = df.drop(columns=[\"GB37_position\"])\n",
    "\n",
    "\n",
    "\n",
    "# Переименовываем и переставляем колонки\n",
    "df = df[['rs#', 'chromosome', 'GB38_position', 'allele1', 'allele2']]\n",
    "df.columns = ['rs#', 'chr', 'pos', 'ref', 'alt']\n",
    "\n",
    "# Добавляем префиксы\n",
    "df['rs#'] = 'rs' + df['rs#'].astype(str)\n",
    "df['chr'] = 'chr' + df['chr'].astype(str)\n",
    "\n",
    "# Удаляем варианты с X-хромосомы\n",
    "df = df[df['chr'] != 'chr23']\n",
    "\n",
    "# Сохраняем преобразованный файл\n",
    "output_file = 'FP_SNPs_10k_GB38_twoAllelsFormat.tsv'\n",
    "df.to_csv(output_file, sep='\\t', index=False)"
   ]
  },
  {
   "cell_type": "code",
   "execution_count": 11,
   "id": "1616ff75-7f9a-4f81-8303-e0e96973e5d2",
   "metadata": {},
   "outputs": [
    {
     "name": "stdout",
     "output_type": "stream",
     "text": [
      "Requirement already satisfied: pip in c:\\users\\user\\anaconda3\\lib\\site-packages (22.2.2)\n",
      "Collecting pip\n",
      "  Downloading pip-24.0-py3-none-any.whl (2.1 MB)\n",
      "     ---------------------------------------- 2.1/2.1 MB 5.4 MB/s eta 0:00:00\n",
      "Installing collected packages: pip\n",
      "  Attempting uninstall: pip\n",
      "    Found existing installation: pip 22.2.2\n",
      "    Uninstalling pip-22.2.2:\n",
      "      Successfully uninstalled pip-22.2.2\n",
      "Successfully installed pip-24.0\n"
     ]
    }
   ],
   "source": [
    "!python -m pip install --upgrade pip\n"
   ]
  },
  {
   "cell_type": "code",
   "execution_count": 12,
   "id": "dae0b09b-22fd-46e4-a9a0-eb6dcbf12bae",
   "metadata": {},
   "outputs": [
    {
     "name": "stdout",
     "output_type": "stream",
     "text": [
      "Collecting pysam\n",
      "  Downloading pysam-0.22.1.tar.gz (4.6 MB)\n",
      "     ---------------------------------------- 4.6/4.6 MB 7.2 MB/s eta 0:00:00\n",
      "  Installing build dependencies: started\n",
      "  Installing build dependencies: finished with status 'done'\n",
      "  Getting requirements to build wheel: started\n",
      "  Getting requirements to build wheel: finished with status 'error'\n"
     ]
    },
    {
     "name": "stderr",
     "output_type": "stream",
     "text": [
      "  error: subprocess-exited-with-error\n",
      "  \n",
      "  Getting requirements to build wheel did not run successfully.\n",
      "  exit code: 1\n",
      "  \n",
      "  [34 lines of output]\n",
      "  # pysam: cython is available - using cythonize if necessary\n",
      "  # pysam: htslib mode is shared\n",
      "  # pysam: HTSLIB_CONFIGURE_OPTIONS=None\n",
      "  \".\" не является внутренней или внешней\n",
      "  командой, исполняемой программой или пакетным файлом.\n",
      "  \".\" не является внутренней или внешней\n",
      "  командой, исполняемой программой или пакетным файлом.\n",
      "  # pysam: htslib configure options: None\n",
      "  Traceback (most recent call last):\n",
      "    File \"C:\\Users\\USER\\anaconda3\\lib\\site-packages\\pip\\_vendor\\pyproject_hooks\\_in_process\\_in_process.py\", line 353, in <module>\n",
      "      main()\n",
      "    File \"C:\\Users\\USER\\anaconda3\\lib\\site-packages\\pip\\_vendor\\pyproject_hooks\\_in_process\\_in_process.py\", line 335, in main\n",
      "      json_out['return_val'] = hook(**hook_input['kwargs'])\n",
      "    File \"C:\\Users\\USER\\anaconda3\\lib\\site-packages\\pip\\_vendor\\pyproject_hooks\\_in_process\\_in_process.py\", line 118, in get_requires_for_build_wheel\n",
      "      return hook(config_settings)\n",
      "    File \"C:\\Users\\USER\\AppData\\Local\\Temp\\pip-build-env-j24vrtb0\\overlay\\Lib\\site-packages\\setuptools\\build_meta.py\", line 325, in get_requires_for_build_wheel\n",
      "      return self._get_build_requires(config_settings, requirements=['wheel'])\n",
      "    File \"C:\\Users\\USER\\AppData\\Local\\Temp\\pip-build-env-j24vrtb0\\overlay\\Lib\\site-packages\\setuptools\\build_meta.py\", line 295, in _get_build_requires\n",
      "      self.run_setup()\n",
      "    File \"C:\\Users\\USER\\AppData\\Local\\Temp\\pip-build-env-j24vrtb0\\overlay\\Lib\\site-packages\\setuptools\\build_meta.py\", line 487, in run_setup\n",
      "      super().run_setup(setup_script=setup_script)\n",
      "    File \"C:\\Users\\USER\\AppData\\Local\\Temp\\pip-build-env-j24vrtb0\\overlay\\Lib\\site-packages\\setuptools\\build_meta.py\", line 311, in run_setup\n",
      "      exec(code, locals())\n",
      "    File \"<string>\", line 437, in <module>\n",
      "    File \"<string>\", line 81, in run_make_print_config\n",
      "    File \"C:\\Users\\USER\\anaconda3\\lib\\subprocess.py\", line 424, in check_output\n",
      "      return run(*popenargs, stdout=PIPE, timeout=timeout, check=True,\n",
      "    File \"C:\\Users\\USER\\anaconda3\\lib\\subprocess.py\", line 505, in run\n",
      "      with Popen(*popenargs, **kwargs) as process:\n",
      "    File \"C:\\Users\\USER\\anaconda3\\lib\\subprocess.py\", line 951, in __init__\n",
      "      self._execute_child(args, executable, preexec_fn, close_fds,\n",
      "    File \"C:\\Users\\USER\\anaconda3\\lib\\subprocess.py\", line 1420, in _execute_child\n",
      "      hp, ht, pid, tid = _winapi.CreateProcess(executable, args,\n",
      "  FileNotFoundError: [WinError 2] Не удается найти указанный файл\n",
      "  [end of output]\n",
      "  \n",
      "  note: This error originates from a subprocess, and is likely not a problem with pip.\n",
      "error: subprocess-exited-with-error\n",
      "\n",
      "Getting requirements to build wheel did not run successfully.\n",
      "exit code: 1\n",
      "\n",
      "See above for output.\n",
      "\n",
      "note: This error originates from a subprocess, and is likely not a problem with pip.\n"
     ]
    }
   ],
   "source": [
    "!pip install pysam\n"
   ]
  },
  {
   "cell_type": "code",
   "execution_count": 13,
   "id": "5b2dc890-d79b-41b0-83b5-8ed2d021a172",
   "metadata": {},
   "outputs": [
    {
     "name": "stdout",
     "output_type": "stream",
     "text": [
      "Python 3.9.13\n"
     ]
    }
   ],
   "source": [
    "!python --version"
   ]
  },
  {
   "cell_type": "code",
   "execution_count": 14,
   "id": "5010b611-eb46-4b65-a995-9de1f8f79b62",
   "metadata": {},
   "outputs": [
    {
     "name": "stdout",
     "output_type": "stream",
     "text": [
      "Requirement already satisfied: pip in c:\\users\\user\\anaconda3\\lib\\site-packages (24.0)\n",
      "Requirement already satisfied: setuptools in c:\\users\\user\\anaconda3\\lib\\site-packages (63.4.1)\n",
      "Collecting setuptools\n",
      "  Using cached setuptools-69.5.1-py3-none-any.whl.metadata (6.2 kB)\n",
      "Requirement already satisfied: wheel in c:\\users\\user\\anaconda3\\lib\\site-packages (0.37.1)\n",
      "Collecting wheel\n",
      "  Downloading wheel-0.43.0-py3-none-any.whl.metadata (2.2 kB)\n",
      "Using cached setuptools-69.5.1-py3-none-any.whl (894 kB)\n",
      "Downloading wheel-0.43.0-py3-none-any.whl (65 kB)\n",
      "   ---------------------------------------- 65.8/65.8 kB 881.5 kB/s eta 0:00:00\n",
      "Installing collected packages: wheel, setuptools\n",
      "  Attempting uninstall: wheel\n",
      "    Found existing installation: wheel 0.37.1\n",
      "    Uninstalling wheel-0.37.1:\n",
      "      Successfully uninstalled wheel-0.37.1\n",
      "  Attempting uninstall: setuptools\n",
      "    Found existing installation: setuptools 63.4.1\n",
      "    Uninstalling setuptools-63.4.1:\n",
      "      Successfully uninstalled setuptools-63.4.1\n",
      "Successfully installed setuptools-69.5.1 wheel-0.43.0\n"
     ]
    },
    {
     "name": "stderr",
     "output_type": "stream",
     "text": [
      "ERROR: pip's dependency resolver does not currently take into account all the packages that are installed. This behaviour is the source of the following dependency conflicts.\n",
      "anaconda-project 0.11.1 requires ruamel-yaml, which is not installed.\n",
      "spyder 5.2.2 requires pyqt5<5.13, which is not installed.\n",
      "spyder 5.2.2 requires pyqtwebengine<5.13, which is not installed.\n",
      "conda-repo-cli 1.0.20 requires clyent==1.2.1, but you have clyent 1.2.2 which is incompatible.\n",
      "conda-repo-cli 1.0.20 requires nbformat==5.4.0, but you have nbformat 5.5.0 which is incompatible.\n"
     ]
    }
   ],
   "source": [
    "!python -m pip install --upgrade pip setuptools wheel\n"
   ]
  },
  {
   "cell_type": "code",
   "execution_count": 15,
   "id": "73ab7968-9e70-4c9d-bb16-612600017667",
   "metadata": {},
   "outputs": [
    {
     "name": "stdout",
     "output_type": "stream",
     "text": [
      "Collecting pysam\n",
      "  Using cached pysam-0.22.1.tar.gz (4.6 MB)\n",
      "  Installing build dependencies: started\n",
      "  Installing build dependencies: finished with status 'done'\n",
      "  Getting requirements to build wheel: started\n",
      "  Getting requirements to build wheel: finished with status 'error'\n"
     ]
    },
    {
     "name": "stderr",
     "output_type": "stream",
     "text": [
      "  error: subprocess-exited-with-error\n",
      "  \n",
      "  Getting requirements to build wheel did not run successfully.\n",
      "  exit code: 1\n",
      "  \n",
      "  [34 lines of output]\n",
      "  # pysam: cython is available - using cythonize if necessary\n",
      "  # pysam: htslib mode is shared\n",
      "  # pysam: HTSLIB_CONFIGURE_OPTIONS=None\n",
      "  \".\" не является внутренней или внешней\n",
      "  командой, исполняемой программой или пакетным файлом.\n",
      "  \".\" не является внутренней или внешней\n",
      "  командой, исполняемой программой или пакетным файлом.\n",
      "  # pysam: htslib configure options: None\n",
      "  Traceback (most recent call last):\n",
      "    File \"C:\\Users\\USER\\anaconda3\\lib\\site-packages\\pip\\_vendor\\pyproject_hooks\\_in_process\\_in_process.py\", line 353, in <module>\n",
      "      main()\n",
      "    File \"C:\\Users\\USER\\anaconda3\\lib\\site-packages\\pip\\_vendor\\pyproject_hooks\\_in_process\\_in_process.py\", line 335, in main\n",
      "      json_out['return_val'] = hook(**hook_input['kwargs'])\n",
      "    File \"C:\\Users\\USER\\anaconda3\\lib\\site-packages\\pip\\_vendor\\pyproject_hooks\\_in_process\\_in_process.py\", line 118, in get_requires_for_build_wheel\n",
      "      return hook(config_settings)\n",
      "    File \"C:\\Users\\USER\\AppData\\Local\\Temp\\pip-build-env-s5kglawf\\overlay\\Lib\\site-packages\\setuptools\\build_meta.py\", line 325, in get_requires_for_build_wheel\n",
      "      return self._get_build_requires(config_settings, requirements=['wheel'])\n",
      "    File \"C:\\Users\\USER\\AppData\\Local\\Temp\\pip-build-env-s5kglawf\\overlay\\Lib\\site-packages\\setuptools\\build_meta.py\", line 295, in _get_build_requires\n",
      "      self.run_setup()\n",
      "    File \"C:\\Users\\USER\\AppData\\Local\\Temp\\pip-build-env-s5kglawf\\overlay\\Lib\\site-packages\\setuptools\\build_meta.py\", line 487, in run_setup\n",
      "      super().run_setup(setup_script=setup_script)\n",
      "    File \"C:\\Users\\USER\\AppData\\Local\\Temp\\pip-build-env-s5kglawf\\overlay\\Lib\\site-packages\\setuptools\\build_meta.py\", line 311, in run_setup\n",
      "      exec(code, locals())\n",
      "    File \"<string>\", line 437, in <module>\n",
      "    File \"<string>\", line 81, in run_make_print_config\n",
      "    File \"C:\\Users\\USER\\anaconda3\\lib\\subprocess.py\", line 424, in check_output\n",
      "      return run(*popenargs, stdout=PIPE, timeout=timeout, check=True,\n",
      "    File \"C:\\Users\\USER\\anaconda3\\lib\\subprocess.py\", line 505, in run\n",
      "      with Popen(*popenargs, **kwargs) as process:\n",
      "    File \"C:\\Users\\USER\\anaconda3\\lib\\subprocess.py\", line 951, in __init__\n",
      "      self._execute_child(args, executable, preexec_fn, close_fds,\n",
      "    File \"C:\\Users\\USER\\anaconda3\\lib\\subprocess.py\", line 1420, in _execute_child\n",
      "      hp, ht, pid, tid = _winapi.CreateProcess(executable, args,\n",
      "  FileNotFoundError: [WinError 2] Не удается найти указанный файл\n",
      "  [end of output]\n",
      "  \n",
      "  note: This error originates from a subprocess, and is likely not a problem with pip.\n",
      "error: subprocess-exited-with-error\n",
      "\n",
      "Getting requirements to build wheel did not run successfully.\n",
      "exit code: 1\n",
      "\n",
      "See above for output.\n",
      "\n",
      "note: This error originates from a subprocess, and is likely not a problem with pip.\n"
     ]
    }
   ],
   "source": [
    "!pip install pysam"
   ]
  },
  {
   "cell_type": "code",
   "execution_count": null,
   "id": "f7826b0c-8ddc-4612-a6a1-33641bf6ec04",
   "metadata": {},
   "outputs": [],
   "source": [
    "pysam-0.22.1"
   ]
  },
  {
   "cell_type": "code",
   "execution_count": 3,
   "id": "fe916a79-215c-4c20-92e5-dfee09b92815",
   "metadata": {},
   "outputs": [
    {
     "name": "stdout",
     "output_type": "stream",
     "text": [
      "# pysam: cython is available - using cythonize if necessary\n"
     ]
    },
    {
     "name": "stderr",
     "output_type": "stream",
     "text": [
      "Traceback (most recent call last):\n",
      "  File \"C:\\Users\\USER\\Inteligent_sys\\pysam-0.22.1\\pysam-0.22.1\\setup.py\", line 401, in <module>\n",
      "    raise ValueError(\n",
      "ValueError: no cython installed, but can not find pysam/libchtslib.pyx.Make sure that cython is installed when building from the repository\n"
     ]
    }
   ],
   "source": [
    "!python pysam-0.22.1/pysam-0.22.1/setup.py install\n"
   ]
  },
  {
   "cell_type": "code",
   "execution_count": null,
   "id": "a90ea18e-8092-4b4e-8450-223d7a8a2e93",
   "metadata": {},
   "outputs": [],
   "source": []
  },
  {
   "cell_type": "code",
   "execution_count": 5,
   "id": "550c3a9c-a95b-4077-97c6-ada544c3bdda",
   "metadata": {},
   "outputs": [
    {
     "name": "stdout",
     "output_type": "stream",
     "text": [
      "Requirement already satisfied: cython in c:\\users\\user\\anaconda3\\lib\\site-packages (0.29.32)\n"
     ]
    }
   ],
   "source": [
    "!pip install cython"
   ]
  },
  {
   "cell_type": "code",
   "execution_count": 7,
   "id": "e8315dcb-0ed7-4401-9767-4b376000558e",
   "metadata": {},
   "outputs": [],
   "source": [
    "import Cython"
   ]
  },
  {
   "cell_type": "code",
   "execution_count": 8,
   "id": "ddc29921-7ad6-4a13-9721-491697b5b903",
   "metadata": {},
   "outputs": [
    {
     "name": "stdout",
     "output_type": "stream",
     "text": [
      "Collecting pysam\n",
      "  Using cached pysam-0.22.1.tar.gz (4.6 MB)\n",
      "  Installing build dependencies: started\n",
      "  Installing build dependencies: finished with status 'done'\n",
      "  Getting requirements to build wheel: started\n",
      "  Getting requirements to build wheel: finished with status 'error'\n",
      "Note: you may need to restart the kernel to use updated packages.\n"
     ]
    },
    {
     "name": "stderr",
     "output_type": "stream",
     "text": [
      "  error: subprocess-exited-with-error\n",
      "  \n",
      "  Getting requirements to build wheel did not run successfully.\n",
      "  exit code: 1\n",
      "  \n",
      "  [34 lines of output]\n",
      "  # pysam: cython is available - using cythonize if necessary\n",
      "  # pysam: htslib mode is shared\n",
      "  # pysam: HTSLIB_CONFIGURE_OPTIONS=None\n",
      "  \".\" не является внутренней или внешней\n",
      "  командой, исполняемой программой или пакетным файлом.\n",
      "  \".\" не является внутренней или внешней\n",
      "  командой, исполняемой программой или пакетным файлом.\n",
      "  # pysam: htslib configure options: None\n",
      "  Traceback (most recent call last):\n",
      "    File \"C:\\Users\\USER\\anaconda3\\lib\\site-packages\\pip\\_vendor\\pyproject_hooks\\_in_process\\_in_process.py\", line 353, in <module>\n",
      "      main()\n",
      "    File \"C:\\Users\\USER\\anaconda3\\lib\\site-packages\\pip\\_vendor\\pyproject_hooks\\_in_process\\_in_process.py\", line 335, in main\n",
      "      json_out['return_val'] = hook(**hook_input['kwargs'])\n",
      "    File \"C:\\Users\\USER\\anaconda3\\lib\\site-packages\\pip\\_vendor\\pyproject_hooks\\_in_process\\_in_process.py\", line 118, in get_requires_for_build_wheel\n",
      "      return hook(config_settings)\n",
      "    File \"C:\\Users\\USER\\AppData\\Local\\Temp\\pip-build-env-tl3nhyfh\\overlay\\Lib\\site-packages\\setuptools\\build_meta.py\", line 325, in get_requires_for_build_wheel\n",
      "      return self._get_build_requires(config_settings, requirements=['wheel'])\n",
      "    File \"C:\\Users\\USER\\AppData\\Local\\Temp\\pip-build-env-tl3nhyfh\\overlay\\Lib\\site-packages\\setuptools\\build_meta.py\", line 295, in _get_build_requires\n",
      "      self.run_setup()\n",
      "    File \"C:\\Users\\USER\\AppData\\Local\\Temp\\pip-build-env-tl3nhyfh\\overlay\\Lib\\site-packages\\setuptools\\build_meta.py\", line 487, in run_setup\n",
      "      super().run_setup(setup_script=setup_script)\n",
      "    File \"C:\\Users\\USER\\AppData\\Local\\Temp\\pip-build-env-tl3nhyfh\\overlay\\Lib\\site-packages\\setuptools\\build_meta.py\", line 311, in run_setup\n",
      "      exec(code, locals())\n",
      "    File \"<string>\", line 437, in <module>\n",
      "    File \"<string>\", line 81, in run_make_print_config\n",
      "    File \"C:\\Users\\USER\\anaconda3\\lib\\subprocess.py\", line 424, in check_output\n",
      "      return run(*popenargs, stdout=PIPE, timeout=timeout, check=True,\n",
      "    File \"C:\\Users\\USER\\anaconda3\\lib\\subprocess.py\", line 505, in run\n",
      "      with Popen(*popenargs, **kwargs) as process:\n",
      "    File \"C:\\Users\\USER\\anaconda3\\lib\\subprocess.py\", line 951, in __init__\n",
      "      self._execute_child(args, executable, preexec_fn, close_fds,\n",
      "    File \"C:\\Users\\USER\\anaconda3\\lib\\subprocess.py\", line 1420, in _execute_child\n",
      "      hp, ht, pid, tid = _winapi.CreateProcess(executable, args,\n",
      "  FileNotFoundError: [WinError 2] Не удается найти указанный файл\n",
      "  [end of output]\n",
      "  \n",
      "  note: This error originates from a subprocess, and is likely not a problem with pip.\n",
      "error: subprocess-exited-with-error\n",
      "\n",
      "Getting requirements to build wheel did not run successfully.\n",
      "exit code: 1\n",
      "\n",
      "See above for output.\n",
      "\n",
      "note: This error originates from a subprocess, and is likely not a problem with pip.\n"
     ]
    }
   ],
   "source": [
    "pip install pysam"
   ]
  },
  {
   "cell_type": "code",
   "execution_count": 9,
   "id": "f8362bd3-b678-49d7-8898-9f878f8df2b6",
   "metadata": {},
   "outputs": [
    {
     "ename": "ModuleNotFoundError",
     "evalue": "No module named 'pysam'",
     "output_type": "error",
     "traceback": [
      "\u001b[1;31m---------------------------------------------------------------------------\u001b[0m",
      "\u001b[1;31mModuleNotFoundError\u001b[0m                       Traceback (most recent call last)",
      "\u001b[1;32m~\\AppData\\Local\\Temp\\ipykernel_16676\\1352105477.py\u001b[0m in \u001b[0;36m<module>\u001b[1;34m\u001b[0m\n\u001b[1;32m----> 1\u001b[1;33m \u001b[1;32mimport\u001b[0m \u001b[0mpysam\u001b[0m\u001b[1;33m\u001b[0m\u001b[1;33m\u001b[0m\u001b[0m\n\u001b[0m\u001b[0;32m      2\u001b[0m \u001b[1;32mimport\u001b[0m \u001b[0mpandas\u001b[0m \u001b[1;32mas\u001b[0m \u001b[0mpd\u001b[0m\u001b[1;33m\u001b[0m\u001b[1;33m\u001b[0m\u001b[0m\n\u001b[0;32m      3\u001b[0m \u001b[1;32mimport\u001b[0m \u001b[0mos\u001b[0m\u001b[1;33m\u001b[0m\u001b[1;33m\u001b[0m\u001b[0m\n\u001b[0;32m      4\u001b[0m \u001b[1;33m\u001b[0m\u001b[0m\n\u001b[0;32m      5\u001b[0m \u001b[1;31m# Пути к файлам\u001b[0m\u001b[1;33m\u001b[0m\u001b[1;33m\u001b[0m\u001b[0m\n",
      "\u001b[1;31mModuleNotFoundError\u001b[0m: No module named 'pysam'"
     ]
    }
   ],
   "source": [
    "import pysam\n",
    "import pandas as pd\n",
    "import os\n",
    "\n",
    "# Пути к файлам\n",
    "input_file = 'FP_SNPs_10k_GB38_twoAllelsFormat.tsv'\n",
    "ref_genome_dir = 'reference_genome/'\n",
    "output_file = 'FP_SNPs_10k_GB38_twoAllelsFormatWithRef.tsv'\n",
    "\n",
    "# Загрузка данных из исходного файла\n",
    "df = pd.read_csv(input_file, sep='\\t')\n",
    "\n",
    "# Создание словаря для хранения Fastafile объектов по хромосомам\n",
    "ref_files = {}\n",
    "\n",
    "# Функция для получения референсного аллеля\n",
    "def get_ref_allele(chrom, pos):\n",
    "    if chrom not in ref_files:\n",
    "        # Открытие файла референсного генома для текущей хромосомы\n",
    "        ref_file = pysam.Fastafile(os.path.join(ref_genome_dir, f'chr{chrom}.fa'))\n",
    "        ref_files[chrom] = ref_file\n",
    "    else:\n",
    "        ref_file = ref_files[chrom]\n",
    "    \n",
    "    try:\n",
    "        # Получение референсного аллеля из файла\n",
    "        ref_allele = ref_file.fetch(f'chr{chrom}', pos - 1, pos).upper()\n",
    "        return ref_allele\n",
    "    except KeyError:\n",
    "        # Если позиция не найдена в референсном геноме, вернуть пустую строку\n",
    "        return ''\n",
    "\n",
    "# Создание нового DataFrame для сохранения результатов\n",
    "result_df = pd.DataFrame(columns=['rs#', 'chr', 'pos', 'ref', 'alt'])\n",
    "\n",
    "# Итерация по строкам исходного DataFrame\n",
    "for _, row in df.iterrows():\n",
    "    # Получение референсного аллеля\n",
    "    ref_allele = get_ref_allele(row['chr'], row['pos'])\n",
    "    \n",
    "    # Добавление строки в результирующий DataFrame\n",
    "    result_df = result_df.append({\n",
    "        'rs#': row['rs#'],\n",
    "        'chr': row['chr'],\n",
    "        'pos': row['pos'],\n",
    "        'ref': ref_allele,\n",
    "        'alt': row['alt']\n",
    "    }, ignore_index=True)\n",
    "\n",
    "# Закрытие всех открытых файлов референсного генома\n",
    "for ref_file in ref_files.values():\n",
    "    ref_file.close()\n",
    "\n",
    "# Сохранение результирующего DataFrame в файл\n",
    "result_df.to_csv(output_file, sep='\\t', index=False)\n"
   ]
  },
  {
   "cell_type": "code",
   "execution_count": null,
   "id": "1708e7c8-fed1-47cf-a440-63477fbde0aa",
   "metadata": {},
   "outputs": [],
   "source": []
  },
  {
   "cell_type": "code",
   "execution_count": null,
   "id": "d3e6ae69-997e-4f36-a8ab-7954acf95066",
   "metadata": {},
   "outputs": [],
   "source": []
  }
 ],
 "metadata": {
  "kernelspec": {
   "display_name": "Python 3 (ipykernel)",
   "language": "python",
   "name": "python3"
  },
  "language_info": {
   "codemirror_mode": {
    "name": "ipython",
    "version": 3
   },
   "file_extension": ".py",
   "mimetype": "text/x-python",
   "name": "python",
   "nbconvert_exporter": "python",
   "pygments_lexer": "ipython3",
   "version": "3.9.13"
  }
 },
 "nbformat": 4,
 "nbformat_minor": 5
}
